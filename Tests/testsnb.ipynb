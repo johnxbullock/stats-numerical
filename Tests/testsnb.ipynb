{
 "cells": [
  {
   "cell_type": "code",
   "execution_count": 9,
   "id": "313506017cdda4f7",
   "metadata": {
    "collapsed": false,
    "ExecuteTime": {
     "end_time": "2024-08-23T12:56:56.829730Z",
     "start_time": "2024-08-23T12:56:56.810742Z"
    }
   },
   "outputs": [],
   "source": [
    "import os\n",
    "import csv\n",
    "import numpy as np"
   ]
  },
  {
   "cell_type": "code",
   "outputs": [],
   "source": [
    "# get current working directory\n",
    "\n",
    "# file name\n",
    "file_name = \"lending_data.txt\"\n",
    "\n",
    "# create file path\n",
    "file_path = f\"../Data/{file_name}\""
   ],
   "metadata": {
    "collapsed": false,
    "ExecuteTime": {
     "end_time": "2024-08-23T12:56:57.285766Z",
     "start_time": "2024-08-23T12:56:57.278772Z"
    }
   },
   "id": "29c44e3699b98ba9",
   "execution_count": 10
  },
  {
   "cell_type": "code",
   "outputs": [
    {
     "data": {
      "text/plain": "'../Data/lending_data.txt'"
     },
     "execution_count": 11,
     "metadata": {},
     "output_type": "execute_result"
    }
   ],
   "source": [
    "file_path"
   ],
   "metadata": {
    "collapsed": false,
    "ExecuteTime": {
     "end_time": "2024-08-23T12:56:57.830548Z",
     "start_time": "2024-08-23T12:56:57.813558Z"
    }
   },
   "id": "7020a12ac36d1ca4",
   "execution_count": 11
  },
  {
   "cell_type": "code",
   "outputs": [],
   "source": [
    "def csv_to_np(file_path: str) -> np.ndarray:\n",
    "    \n",
    "    #open the file\n",
    "    with open(file_path) as csvfile:\n",
    "        \n",
    "        # initialize a reader object\n",
    "        reader = csv.reader(csvfile)\n",
    "        \n",
    "        # skip the header\n",
    "        header = next(reader)\n",
    "        \n",
    "        # create a list of rows\n",
    "        data_list = [row for row in reader]\n",
    "        \n",
    "        # return the list as a numpy array\n",
    "        return np.array(data_list)"
   ],
   "metadata": {
    "collapsed": true,
    "ExecuteTime": {
     "end_time": "2024-08-23T12:57:06.611764Z",
     "start_time": "2024-08-23T12:57:06.590776Z"
    }
   },
   "id": "initial_id",
   "execution_count": 12
  },
  {
   "cell_type": "code",
   "outputs": [],
   "source": [
    "test = csv_to_np(file_path)"
   ],
   "metadata": {
    "collapsed": false,
    "ExecuteTime": {
     "end_time": "2024-08-23T12:57:39.453148Z",
     "start_time": "2024-08-23T12:57:39.122329Z"
    }
   },
   "id": "8bc80635bcaf0dfc",
   "execution_count": 13
  },
  {
   "cell_type": "code",
   "outputs": [
    {
     "name": "stdout",
     "output_type": "stream",
     "text": [
      "77536\n"
     ]
    }
   ],
   "source": [
    "print(len(test))"
   ],
   "metadata": {
    "collapsed": false,
    "ExecuteTime": {
     "end_time": "2024-08-23T12:58:00.105792Z",
     "start_time": "2024-08-23T12:58:00.088800Z"
    }
   },
   "id": "ee07c01507050851",
   "execution_count": 15
  },
  {
   "cell_type": "code",
   "outputs": [
    {
     "name": "stdout",
     "output_type": "stream",
     "text": [
      "<class 'numpy.ndarray'>\n"
     ]
    }
   ],
   "source": [
    "print(type(test))"
   ],
   "metadata": {
    "collapsed": false,
    "ExecuteTime": {
     "end_time": "2024-08-23T12:58:06.383235Z",
     "start_time": "2024-08-23T12:58:06.365246Z"
    }
   },
   "id": "18ffb958ee2d3fb3",
   "execution_count": 16
  },
  {
   "cell_type": "code",
   "outputs": [],
   "source": [],
   "metadata": {
    "collapsed": false
   },
   "id": "b61af877d6771bce"
  }
 ],
 "metadata": {
  "kernelspec": {
   "display_name": "Python 3",
   "language": "python",
   "name": "python3"
  },
  "language_info": {
   "codemirror_mode": {
    "name": "ipython",
    "version": 2
   },
   "file_extension": ".py",
   "mimetype": "text/x-python",
   "name": "python",
   "nbconvert_exporter": "python",
   "pygments_lexer": "ipython2",
   "version": "2.7.6"
  }
 },
 "nbformat": 4,
 "nbformat_minor": 5
}
